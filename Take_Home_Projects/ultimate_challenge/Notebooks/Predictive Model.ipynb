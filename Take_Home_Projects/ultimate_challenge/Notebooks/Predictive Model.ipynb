{
 "metadata": {
  "language_info": {
   "codemirror_mode": {
    "name": "ipython",
    "version": 3
   },
   "file_extension": ".py",
   "mimetype": "text/x-python",
   "name": "python",
   "nbconvert_exporter": "python",
   "pygments_lexer": "ipython3",
   "version": "3.7.7-final"
  },
  "orig_nbformat": 2,
  "kernelspec": {
   "name": "python_defaultSpec_1598301608040",
   "display_name": "Python 3.7.7 64-bit (conda)"
  }
 },
 "nbformat": 4,
 "nbformat_minor": 2,
 "cells": [
  {
   "cell_type": "code",
   "execution_count": 151,
   "metadata": {},
   "outputs": [],
   "source": [
    "import pandas as pd\n",
    "import matplotlib as plt\n",
    "import numpy as np\n",
    "from sklearn.model_selection import train_test_split\n",
    "from sklearn.ensemble import RandomForestClassifier\n",
    "from sklearn.metrics import roc_auc_score\n",
    "from sklearn import metrics\n",
    "from sklearn.metrics import classification_report, confusion_matrix, accuracy_score"
   ]
  },
  {
   "cell_type": "code",
   "execution_count": 152,
   "metadata": {},
   "outputs": [],
   "source": [
    "users = pd.read_json('../ultimate_data_challenge.json', orient='values')"
   ]
  },
  {
   "cell_type": "code",
   "execution_count": 153,
   "metadata": {},
   "outputs": [
    {
     "output_type": "execute_result",
     "data": {
      "text/plain": "             city  trips_in_first_30_days signup_date  avg_rating_of_driver  \\\n0  King's Landing                       4  2014-01-25                   4.7   \n1         Astapor                       0  2014-01-29                   5.0   \n2         Astapor                       3  2014-01-06                   4.3   \n3  King's Landing                       9  2014-01-10                   4.6   \n4      Winterfell                      14  2014-01-27                   4.4   \n\n   avg_surge last_trip_date    phone  surge_pct  ultimate_black_user  \\\n0       1.10     2014-06-17   iPhone       15.4                 True   \n1       1.00     2014-05-05  Android        0.0                False   \n2       1.00     2014-01-07   iPhone        0.0                False   \n3       1.14     2014-06-29   iPhone       20.0                 True   \n4       1.19     2014-03-15  Android       11.8                False   \n\n   weekday_pct  avg_dist  avg_rating_by_driver  \n0         46.2      3.67                   5.0  \n1         50.0      8.26                   5.0  \n2        100.0      0.77                   5.0  \n3         80.0      2.36                   4.9  \n4         82.4      3.13                   4.9  ",
      "text/html": "<div>\n<style scoped>\n    .dataframe tbody tr th:only-of-type {\n        vertical-align: middle;\n    }\n\n    .dataframe tbody tr th {\n        vertical-align: top;\n    }\n\n    .dataframe thead th {\n        text-align: right;\n    }\n</style>\n<table border=\"1\" class=\"dataframe\">\n  <thead>\n    <tr style=\"text-align: right;\">\n      <th></th>\n      <th>city</th>\n      <th>trips_in_first_30_days</th>\n      <th>signup_date</th>\n      <th>avg_rating_of_driver</th>\n      <th>avg_surge</th>\n      <th>last_trip_date</th>\n      <th>phone</th>\n      <th>surge_pct</th>\n      <th>ultimate_black_user</th>\n      <th>weekday_pct</th>\n      <th>avg_dist</th>\n      <th>avg_rating_by_driver</th>\n    </tr>\n  </thead>\n  <tbody>\n    <tr>\n      <th>0</th>\n      <td>King's Landing</td>\n      <td>4</td>\n      <td>2014-01-25</td>\n      <td>4.7</td>\n      <td>1.10</td>\n      <td>2014-06-17</td>\n      <td>iPhone</td>\n      <td>15.4</td>\n      <td>True</td>\n      <td>46.2</td>\n      <td>3.67</td>\n      <td>5.0</td>\n    </tr>\n    <tr>\n      <th>1</th>\n      <td>Astapor</td>\n      <td>0</td>\n      <td>2014-01-29</td>\n      <td>5.0</td>\n      <td>1.00</td>\n      <td>2014-05-05</td>\n      <td>Android</td>\n      <td>0.0</td>\n      <td>False</td>\n      <td>50.0</td>\n      <td>8.26</td>\n      <td>5.0</td>\n    </tr>\n    <tr>\n      <th>2</th>\n      <td>Astapor</td>\n      <td>3</td>\n      <td>2014-01-06</td>\n      <td>4.3</td>\n      <td>1.00</td>\n      <td>2014-01-07</td>\n      <td>iPhone</td>\n      <td>0.0</td>\n      <td>False</td>\n      <td>100.0</td>\n      <td>0.77</td>\n      <td>5.0</td>\n    </tr>\n    <tr>\n      <th>3</th>\n      <td>King's Landing</td>\n      <td>9</td>\n      <td>2014-01-10</td>\n      <td>4.6</td>\n      <td>1.14</td>\n      <td>2014-06-29</td>\n      <td>iPhone</td>\n      <td>20.0</td>\n      <td>True</td>\n      <td>80.0</td>\n      <td>2.36</td>\n      <td>4.9</td>\n    </tr>\n    <tr>\n      <th>4</th>\n      <td>Winterfell</td>\n      <td>14</td>\n      <td>2014-01-27</td>\n      <td>4.4</td>\n      <td>1.19</td>\n      <td>2014-03-15</td>\n      <td>Android</td>\n      <td>11.8</td>\n      <td>False</td>\n      <td>82.4</td>\n      <td>3.13</td>\n      <td>4.9</td>\n    </tr>\n  </tbody>\n</table>\n</div>"
     },
     "metadata": {},
     "execution_count": 153
    }
   ],
   "source": [
    "users.head()"
   ]
  },
  {
   "cell_type": "code",
   "execution_count": 154,
   "metadata": {},
   "outputs": [
    {
     "output_type": "execute_result",
     "data": {
      "text/plain": "       trips_in_first_30_days  avg_rating_of_driver     avg_surge  \\\ncount            50000.000000          41878.000000  50000.000000   \nmean                 2.278200              4.601559      1.074764   \nstd                  3.792684              0.617338      0.222336   \nmin                  0.000000              1.000000      1.000000   \n25%                  0.000000              4.300000      1.000000   \n50%                  1.000000              4.900000      1.000000   \n75%                  3.000000              5.000000      1.050000   \nmax                125.000000              5.000000      8.000000   \n\n          surge_pct   weekday_pct      avg_dist  avg_rating_by_driver  \ncount  50000.000000  50000.000000  50000.000000          49799.000000  \nmean       8.849536     60.926084      5.796827              4.778158  \nstd       19.958811     37.081503      5.707357              0.446652  \nmin        0.000000      0.000000      0.000000              1.000000  \n25%        0.000000     33.300000      2.420000              4.700000  \n50%        0.000000     66.700000      3.880000              5.000000  \n75%        8.600000    100.000000      6.940000              5.000000  \nmax      100.000000    100.000000    160.960000              5.000000  ",
      "text/html": "<div>\n<style scoped>\n    .dataframe tbody tr th:only-of-type {\n        vertical-align: middle;\n    }\n\n    .dataframe tbody tr th {\n        vertical-align: top;\n    }\n\n    .dataframe thead th {\n        text-align: right;\n    }\n</style>\n<table border=\"1\" class=\"dataframe\">\n  <thead>\n    <tr style=\"text-align: right;\">\n      <th></th>\n      <th>trips_in_first_30_days</th>\n      <th>avg_rating_of_driver</th>\n      <th>avg_surge</th>\n      <th>surge_pct</th>\n      <th>weekday_pct</th>\n      <th>avg_dist</th>\n      <th>avg_rating_by_driver</th>\n    </tr>\n  </thead>\n  <tbody>\n    <tr>\n      <th>count</th>\n      <td>50000.000000</td>\n      <td>41878.000000</td>\n      <td>50000.000000</td>\n      <td>50000.000000</td>\n      <td>50000.000000</td>\n      <td>50000.000000</td>\n      <td>49799.000000</td>\n    </tr>\n    <tr>\n      <th>mean</th>\n      <td>2.278200</td>\n      <td>4.601559</td>\n      <td>1.074764</td>\n      <td>8.849536</td>\n      <td>60.926084</td>\n      <td>5.796827</td>\n      <td>4.778158</td>\n    </tr>\n    <tr>\n      <th>std</th>\n      <td>3.792684</td>\n      <td>0.617338</td>\n      <td>0.222336</td>\n      <td>19.958811</td>\n      <td>37.081503</td>\n      <td>5.707357</td>\n      <td>0.446652</td>\n    </tr>\n    <tr>\n      <th>min</th>\n      <td>0.000000</td>\n      <td>1.000000</td>\n      <td>1.000000</td>\n      <td>0.000000</td>\n      <td>0.000000</td>\n      <td>0.000000</td>\n      <td>1.000000</td>\n    </tr>\n    <tr>\n      <th>25%</th>\n      <td>0.000000</td>\n      <td>4.300000</td>\n      <td>1.000000</td>\n      <td>0.000000</td>\n      <td>33.300000</td>\n      <td>2.420000</td>\n      <td>4.700000</td>\n    </tr>\n    <tr>\n      <th>50%</th>\n      <td>1.000000</td>\n      <td>4.900000</td>\n      <td>1.000000</td>\n      <td>0.000000</td>\n      <td>66.700000</td>\n      <td>3.880000</td>\n      <td>5.000000</td>\n    </tr>\n    <tr>\n      <th>75%</th>\n      <td>3.000000</td>\n      <td>5.000000</td>\n      <td>1.050000</td>\n      <td>8.600000</td>\n      <td>100.000000</td>\n      <td>6.940000</td>\n      <td>5.000000</td>\n    </tr>\n    <tr>\n      <th>max</th>\n      <td>125.000000</td>\n      <td>5.000000</td>\n      <td>8.000000</td>\n      <td>100.000000</td>\n      <td>100.000000</td>\n      <td>160.960000</td>\n      <td>5.000000</td>\n    </tr>\n  </tbody>\n</table>\n</div>"
     },
     "metadata": {},
     "execution_count": 154
    }
   ],
   "source": [
    "users.describe()"
   ]
  },
  {
   "cell_type": "code",
   "execution_count": 155,
   "metadata": {},
   "outputs": [
    {
     "output_type": "execute_result",
     "data": {
      "text/plain": "2014-01-18    2948\n2014-01-25    2885\n2014-01-11    2402\n2014-01-24    2284\n2014-01-17    2149\n2014-01-31    2100\n2014-01-19    2028\n2014-01-10    2021\n2014-01-06    1763\n2014-01-01    1737\n2014-01-26    1708\n2014-01-23    1606\n2014-01-07    1486\n2014-01-04    1485\n2014-01-30    1471\n2014-01-09    1433\n2014-01-16    1431\n2014-01-22    1369\n2014-01-05    1343\n2014-01-12    1334\n2014-01-20    1295\n2014-01-28    1284\n2014-01-08    1275\n2014-01-27    1236\n2014-01-21    1234\n2014-01-03    1213\n2014-01-29    1197\n2014-01-14    1120\n2014-01-15    1110\n2014-01-13    1049\n2014-01-02    1004\nName: signup_date, dtype: int64"
     },
     "metadata": {},
     "execution_count": 155
    }
   ],
   "source": [
    "users.signup_date.value_counts()"
   ]
  },
  {
   "cell_type": "code",
   "execution_count": 156,
   "metadata": {},
   "outputs": [
    {
     "output_type": "execute_result",
     "data": {
      "text/plain": "2014-06-29    2036\n2014-06-28    1679\n2014-06-30    1408\n2014-06-27    1120\n2014-06-22    1024\n              ... \n2014-02-26      79\n2014-02-19      79\n2014-02-20      74\n2014-03-04      69\n2014-03-10      69\nName: last_trip_date, Length: 182, dtype: int64"
     },
     "metadata": {},
     "execution_count": 156
    }
   ],
   "source": [
    "users.last_trip_date.value_counts()"
   ]
  },
  {
   "cell_type": "code",
   "execution_count": 157,
   "metadata": {},
   "outputs": [],
   "source": [
    "users.loc[pd.to_datetime(users['last_trip_date']).dt.month == 6, 'active_user'] = True\n",
    "users.loc[pd.to_datetime(users['last_trip_date']).dt.month != 6, 'active_user'] = False"
   ]
  },
  {
   "cell_type": "code",
   "execution_count": 158,
   "metadata": {},
   "outputs": [
    {
     "output_type": "execute_result",
     "data": {
      "text/plain": "False    31744\nTrue     18256\nName: active_user, dtype: int64"
     },
     "metadata": {},
     "execution_count": 158
    }
   ],
   "source": [
    "users.active_user.value_counts()"
   ]
  },
  {
   "cell_type": "code",
   "execution_count": 159,
   "metadata": {},
   "outputs": [
    {
     "output_type": "execute_result",
     "data": {
      "text/plain": "             city  trips_in_first_30_days signup_date  avg_rating_of_driver  \\\n0  King's Landing                       4  2014-01-25                   4.7   \n1         Astapor                       0  2014-01-29                   5.0   \n2         Astapor                       3  2014-01-06                   4.3   \n3  King's Landing                       9  2014-01-10                   4.6   \n4      Winterfell                      14  2014-01-27                   4.4   \n\n   avg_surge last_trip_date    phone  surge_pct  ultimate_black_user  \\\n0       1.10     2014-06-17   iPhone       15.4                 True   \n1       1.00     2014-05-05  Android        0.0                False   \n2       1.00     2014-01-07   iPhone        0.0                False   \n3       1.14     2014-06-29   iPhone       20.0                 True   \n4       1.19     2014-03-15  Android       11.8                False   \n\n   weekday_pct  avg_dist  avg_rating_by_driver active_user  \n0         46.2      3.67                   5.0        True  \n1         50.0      8.26                   5.0       False  \n2        100.0      0.77                   5.0       False  \n3         80.0      2.36                   4.9        True  \n4         82.4      3.13                   4.9       False  ",
      "text/html": "<div>\n<style scoped>\n    .dataframe tbody tr th:only-of-type {\n        vertical-align: middle;\n    }\n\n    .dataframe tbody tr th {\n        vertical-align: top;\n    }\n\n    .dataframe thead th {\n        text-align: right;\n    }\n</style>\n<table border=\"1\" class=\"dataframe\">\n  <thead>\n    <tr style=\"text-align: right;\">\n      <th></th>\n      <th>city</th>\n      <th>trips_in_first_30_days</th>\n      <th>signup_date</th>\n      <th>avg_rating_of_driver</th>\n      <th>avg_surge</th>\n      <th>last_trip_date</th>\n      <th>phone</th>\n      <th>surge_pct</th>\n      <th>ultimate_black_user</th>\n      <th>weekday_pct</th>\n      <th>avg_dist</th>\n      <th>avg_rating_by_driver</th>\n      <th>active_user</th>\n    </tr>\n  </thead>\n  <tbody>\n    <tr>\n      <th>0</th>\n      <td>King's Landing</td>\n      <td>4</td>\n      <td>2014-01-25</td>\n      <td>4.7</td>\n      <td>1.10</td>\n      <td>2014-06-17</td>\n      <td>iPhone</td>\n      <td>15.4</td>\n      <td>True</td>\n      <td>46.2</td>\n      <td>3.67</td>\n      <td>5.0</td>\n      <td>True</td>\n    </tr>\n    <tr>\n      <th>1</th>\n      <td>Astapor</td>\n      <td>0</td>\n      <td>2014-01-29</td>\n      <td>5.0</td>\n      <td>1.00</td>\n      <td>2014-05-05</td>\n      <td>Android</td>\n      <td>0.0</td>\n      <td>False</td>\n      <td>50.0</td>\n      <td>8.26</td>\n      <td>5.0</td>\n      <td>False</td>\n    </tr>\n    <tr>\n      <th>2</th>\n      <td>Astapor</td>\n      <td>3</td>\n      <td>2014-01-06</td>\n      <td>4.3</td>\n      <td>1.00</td>\n      <td>2014-01-07</td>\n      <td>iPhone</td>\n      <td>0.0</td>\n      <td>False</td>\n      <td>100.0</td>\n      <td>0.77</td>\n      <td>5.0</td>\n      <td>False</td>\n    </tr>\n    <tr>\n      <th>3</th>\n      <td>King's Landing</td>\n      <td>9</td>\n      <td>2014-01-10</td>\n      <td>4.6</td>\n      <td>1.14</td>\n      <td>2014-06-29</td>\n      <td>iPhone</td>\n      <td>20.0</td>\n      <td>True</td>\n      <td>80.0</td>\n      <td>2.36</td>\n      <td>4.9</td>\n      <td>True</td>\n    </tr>\n    <tr>\n      <th>4</th>\n      <td>Winterfell</td>\n      <td>14</td>\n      <td>2014-01-27</td>\n      <td>4.4</td>\n      <td>1.19</td>\n      <td>2014-03-15</td>\n      <td>Android</td>\n      <td>11.8</td>\n      <td>False</td>\n      <td>82.4</td>\n      <td>3.13</td>\n      <td>4.9</td>\n      <td>False</td>\n    </tr>\n  </tbody>\n</table>\n</div>"
     },
     "metadata": {},
     "execution_count": 159
    }
   ],
   "source": [
    "users.head()"
   ]
  },
  {
   "cell_type": "code",
   "execution_count": 160,
   "metadata": {},
   "outputs": [],
   "source": [
    "features = users"
   ]
  },
  {
   "cell_type": "code",
   "execution_count": 161,
   "metadata": {},
   "outputs": [],
   "source": [
    "labels = features['active_user']"
   ]
  },
  {
   "cell_type": "code",
   "execution_count": 162,
   "metadata": {},
   "outputs": [],
   "source": [
    "features.drop('active_user', axis=1, inplace=True)"
   ]
  },
  {
   "cell_type": "code",
   "execution_count": 163,
   "metadata": {},
   "outputs": [],
   "source": [
    "city_one_hot = pd.get_dummies(features.city, prefix='city')"
   ]
  },
  {
   "cell_type": "code",
   "execution_count": 164,
   "metadata": {},
   "outputs": [],
   "source": [
    "for city in city_one_hot:\n",
    "    features[city] = city_one_hot[city]\n",
    "\n",
    "features.drop('city', axis=1, inplace=True)"
   ]
  },
  {
   "cell_type": "code",
   "execution_count": 165,
   "metadata": {},
   "outputs": [
    {
     "output_type": "execute_result",
     "data": {
      "text/plain": "Index(['trips_in_first_30_days', 'signup_date', 'avg_rating_of_driver',\n       'avg_surge', 'last_trip_date', 'phone', 'surge_pct',\n       'ultimate_black_user', 'weekday_pct', 'avg_dist',\n       'avg_rating_by_driver', 'city_Astapor', 'city_King's Landing',\n       'city_Winterfell'],\n      dtype='object')"
     },
     "metadata": {},
     "execution_count": 165
    }
   ],
   "source": [
    "features.columns"
   ]
  },
  {
   "cell_type": "code",
   "execution_count": 166,
   "metadata": {},
   "outputs": [],
   "source": [
    "phone_one_hot = pd.get_dummies(features.phone, prefix='phone')"
   ]
  },
  {
   "cell_type": "code",
   "execution_count": 167,
   "metadata": {},
   "outputs": [],
   "source": [
    "for phone in phone_one_hot:\n",
    "    features[phone] = phone_one_hot[phone]\n",
    "\n",
    "features.drop('phone', axis=1, inplace=True)"
   ]
  },
  {
   "cell_type": "code",
   "execution_count": 168,
   "metadata": {},
   "outputs": [
    {
     "output_type": "execute_result",
     "data": {
      "text/plain": "   trips_in_first_30_days signup_date  avg_rating_of_driver  avg_surge  \\\n0                       4  2014-01-25                   4.7       1.10   \n1                       0  2014-01-29                   5.0       1.00   \n2                       3  2014-01-06                   4.3       1.00   \n3                       9  2014-01-10                   4.6       1.14   \n4                      14  2014-01-27                   4.4       1.19   \n\n  last_trip_date  surge_pct  ultimate_black_user  weekday_pct  avg_dist  \\\n0     2014-06-17       15.4                 True         46.2      3.67   \n1     2014-05-05        0.0                False         50.0      8.26   \n2     2014-01-07        0.0                False        100.0      0.77   \n3     2014-06-29       20.0                 True         80.0      2.36   \n4     2014-03-15       11.8                False         82.4      3.13   \n\n   avg_rating_by_driver  city_Astapor  city_King's Landing  city_Winterfell  \\\n0                   5.0             0                    1                0   \n1                   5.0             1                    0                0   \n2                   5.0             1                    0                0   \n3                   4.9             0                    1                0   \n4                   4.9             0                    0                1   \n\n   phone_Android  phone_iPhone  \n0              0             1  \n1              1             0  \n2              0             1  \n3              0             1  \n4              1             0  ",
      "text/html": "<div>\n<style scoped>\n    .dataframe tbody tr th:only-of-type {\n        vertical-align: middle;\n    }\n\n    .dataframe tbody tr th {\n        vertical-align: top;\n    }\n\n    .dataframe thead th {\n        text-align: right;\n    }\n</style>\n<table border=\"1\" class=\"dataframe\">\n  <thead>\n    <tr style=\"text-align: right;\">\n      <th></th>\n      <th>trips_in_first_30_days</th>\n      <th>signup_date</th>\n      <th>avg_rating_of_driver</th>\n      <th>avg_surge</th>\n      <th>last_trip_date</th>\n      <th>surge_pct</th>\n      <th>ultimate_black_user</th>\n      <th>weekday_pct</th>\n      <th>avg_dist</th>\n      <th>avg_rating_by_driver</th>\n      <th>city_Astapor</th>\n      <th>city_King's Landing</th>\n      <th>city_Winterfell</th>\n      <th>phone_Android</th>\n      <th>phone_iPhone</th>\n    </tr>\n  </thead>\n  <tbody>\n    <tr>\n      <th>0</th>\n      <td>4</td>\n      <td>2014-01-25</td>\n      <td>4.7</td>\n      <td>1.10</td>\n      <td>2014-06-17</td>\n      <td>15.4</td>\n      <td>True</td>\n      <td>46.2</td>\n      <td>3.67</td>\n      <td>5.0</td>\n      <td>0</td>\n      <td>1</td>\n      <td>0</td>\n      <td>0</td>\n      <td>1</td>\n    </tr>\n    <tr>\n      <th>1</th>\n      <td>0</td>\n      <td>2014-01-29</td>\n      <td>5.0</td>\n      <td>1.00</td>\n      <td>2014-05-05</td>\n      <td>0.0</td>\n      <td>False</td>\n      <td>50.0</td>\n      <td>8.26</td>\n      <td>5.0</td>\n      <td>1</td>\n      <td>0</td>\n      <td>0</td>\n      <td>1</td>\n      <td>0</td>\n    </tr>\n    <tr>\n      <th>2</th>\n      <td>3</td>\n      <td>2014-01-06</td>\n      <td>4.3</td>\n      <td>1.00</td>\n      <td>2014-01-07</td>\n      <td>0.0</td>\n      <td>False</td>\n      <td>100.0</td>\n      <td>0.77</td>\n      <td>5.0</td>\n      <td>1</td>\n      <td>0</td>\n      <td>0</td>\n      <td>0</td>\n      <td>1</td>\n    </tr>\n    <tr>\n      <th>3</th>\n      <td>9</td>\n      <td>2014-01-10</td>\n      <td>4.6</td>\n      <td>1.14</td>\n      <td>2014-06-29</td>\n      <td>20.0</td>\n      <td>True</td>\n      <td>80.0</td>\n      <td>2.36</td>\n      <td>4.9</td>\n      <td>0</td>\n      <td>1</td>\n      <td>0</td>\n      <td>0</td>\n      <td>1</td>\n    </tr>\n    <tr>\n      <th>4</th>\n      <td>14</td>\n      <td>2014-01-27</td>\n      <td>4.4</td>\n      <td>1.19</td>\n      <td>2014-03-15</td>\n      <td>11.8</td>\n      <td>False</td>\n      <td>82.4</td>\n      <td>3.13</td>\n      <td>4.9</td>\n      <td>0</td>\n      <td>0</td>\n      <td>1</td>\n      <td>1</td>\n      <td>0</td>\n    </tr>\n  </tbody>\n</table>\n</div>"
     },
     "metadata": {},
     "execution_count": 168
    }
   ],
   "source": [
    "features.head()"
   ]
  },
  {
   "cell_type": "code",
   "execution_count": 169,
   "metadata": {},
   "outputs": [],
   "source": [
    "features['signup_year'] = pd.to_datetime(features['signup_date']).dt.year\n",
    "features['signup_month'] = pd.to_datetime(features['signup_date']).dt.month\n",
    "features['signup_day'] = pd.to_datetime(features['signup_date']).dt.day\n",
    "\n",
    "features['last_trip_year'] = pd.to_datetime(features['last_trip_date']).dt.year\n",
    "features['last_trip_month'] = pd.to_datetime(features['last_trip_date']).dt.month\n",
    "features['last_trip_day'] = pd.to_datetime(features['last_trip_date']).dt.day"
   ]
  },
  {
   "cell_type": "code",
   "execution_count": 170,
   "metadata": {},
   "outputs": [],
   "source": [
    "features.drop('signup_date', axis=1, inplace=True)\n",
    "features.drop('last_trip_date', axis=1, inplace=True)"
   ]
  },
  {
   "cell_type": "code",
   "execution_count": 171,
   "metadata": {},
   "outputs": [],
   "source": [
    "features.loc[features['avg_rating_of_driver'].isna() == True, 'avg_rating_of_driver'] = features['avg_rating_of_driver'].mean()\n",
    "features.loc[features['avg_rating_by_driver'].isna() == True, 'avg_rating_by_driver'] = features['avg_rating_by_driver'].mean()"
   ]
  },
  {
   "cell_type": "code",
   "execution_count": 172,
   "metadata": {
    "tags": []
   },
   "outputs": [
    {
     "output_type": "stream",
     "name": "stdout",
     "text": "False    50000\nName: trips_in_first_30_days, dtype: int64\nFalse    50000\nName: avg_rating_of_driver, dtype: int64\nFalse    50000\nName: avg_surge, dtype: int64\nFalse    50000\nName: surge_pct, dtype: int64\nFalse    50000\nName: ultimate_black_user, dtype: int64\nFalse    50000\nName: weekday_pct, dtype: int64\nFalse    50000\nName: avg_dist, dtype: int64\nFalse    50000\nName: avg_rating_by_driver, dtype: int64\nFalse    50000\nName: city_Astapor, dtype: int64\nFalse    50000\nName: city_King's Landing, dtype: int64\nFalse    50000\nName: city_Winterfell, dtype: int64\nFalse    50000\nName: phone_Android, dtype: int64\nFalse    50000\nName: phone_iPhone, dtype: int64\nFalse    50000\nName: signup_year, dtype: int64\nFalse    50000\nName: signup_month, dtype: int64\nFalse    50000\nName: signup_day, dtype: int64\nFalse    50000\nName: last_trip_year, dtype: int64\nFalse    50000\nName: last_trip_month, dtype: int64\nFalse    50000\nName: last_trip_day, dtype: int64\n"
    }
   ],
   "source": [
    "for column in features.columns:\n",
    "    print(features[column].isna().value_counts())"
   ]
  },
  {
   "cell_type": "code",
   "execution_count": 173,
   "metadata": {},
   "outputs": [],
   "source": [
    "labels=labels.astype('int')"
   ]
  },
  {
   "cell_type": "code",
   "execution_count": 174,
   "metadata": {},
   "outputs": [],
   "source": [
    "features.drop('last_trip_year', axis=1, inplace=True)\n",
    "features.drop('last_trip_month', axis=1, inplace=True)\n",
    "features.drop('last_trip_day', axis=1, inplace=True)"
   ]
  },
  {
   "cell_type": "code",
   "execution_count": 175,
   "metadata": {},
   "outputs": [],
   "source": [
    "X_train, X_test, y_train, y_test = train_test_split(\n",
    "    features, labels, test_size=0.33, random_state=42)"
   ]
  },
  {
   "cell_type": "code",
   "execution_count": 176,
   "metadata": {},
   "outputs": [],
   "source": [
    "# Create the model with 100 trees\n",
    "bin_model = RandomForestClassifier(n_estimators=100,\n",
    "                                   oob_score=True,\n",
    "                                   n_jobs=-1,\n",
    "                                   random_state=50,\n",
    "                                   max_features=\"auto\",\n",
    "                                   verbose=True)"
   ]
  },
  {
   "cell_type": "code",
   "execution_count": 177,
   "metadata": {
    "tags": []
   },
   "outputs": [
    {
     "output_type": "stream",
     "name": "stderr",
     "text": "[Parallel(n_jobs=-1)]: Using backend ThreadingBackend with 4 concurrent workers.\n[Parallel(n_jobs=-1)]: Done  42 tasks      | elapsed:    1.2s\n[Parallel(n_jobs=-1)]: Done 100 out of 100 | elapsed:    2.5s finished\n[Parallel(n_jobs=4)]: Using backend ThreadingBackend with 4 concurrent workers.\n[Parallel(n_jobs=4)]: Done  42 tasks      | elapsed:    0.1s\n[Parallel(n_jobs=4)]: Done 100 out of 100 | elapsed:    0.2s finished\n"
    }
   ],
   "source": [
    "# Fit on training data\n",
    "bin_model.fit(X_train, y_train)\n",
    "y_pred = bin_model.predict(X_test)"
   ]
  },
  {
   "cell_type": "code",
   "execution_count": 178,
   "metadata": {
    "tags": []
   },
   "outputs": [
    {
     "output_type": "stream",
     "name": "stdout",
     "text": "[[8790 1676]\n [2255 3779]]\n              precision    recall  f1-score   support\n\n           0       0.80      0.84      0.82     10466\n           1       0.69      0.63      0.66      6034\n\n    accuracy                           0.76     16500\n   macro avg       0.74      0.73      0.74     16500\nweighted avg       0.76      0.76      0.76     16500\n\n0.7617575757575757\n"
    }
   ],
   "source": [
    "print(confusion_matrix(y_test, y_pred))\n",
    "print(classification_report(y_test, y_pred))\n",
    "print(accuracy_score(y_test, y_pred))"
   ]
  },
  {
   "cell_type": "code",
   "execution_count": 179,
   "metadata": {},
   "outputs": [],
   "source": [
    "features = features.columns\n",
    "importances = bin_model.feature_importances_"
   ]
  },
  {
   "cell_type": "code",
   "execution_count": 180,
   "metadata": {
    "tags": []
   },
   "outputs": [
    {
     "output_type": "stream",
     "name": "stdout",
     "text": "trips_in_first_30_days: 0.07360690168998715\navg_rating_of_driver: 0.07513542629115895\navg_surge: 0.055339202966817595\nsurge_pct: 0.07966985586129775\nultimate_black_user: 0.031001387906955856\nweekday_pct: 0.12050511049590405\navg_dist: 0.21002695474913585\navg_rating_by_driver: 0.10538092141653654\ncity_Astapor: 0.01468418250420218\ncity_King's Landing: 0.047764232620745466\ncity_Winterfell: 0.009647884301374837\nphone_Android: 0.019885894604191434\nphone_iPhone: 0.01825876434965492\nsignup_year: 0.0\nsignup_month: 0.0\nsignup_day: 0.1390932802420375\n"
    }
   ],
   "source": [
    "for i in range(0, len(features)):\n",
    "    print(features[i] + ': ' + str(importances[i]))"
   ]
  },
  {
   "cell_type": "code",
   "execution_count": null,
   "metadata": {},
   "outputs": [],
   "source": []
  }
 ]
}